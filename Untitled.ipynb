{
 "cells": [
  {
   "cell_type": "code",
   "execution_count": 1,
   "metadata": {},
   "outputs": [
    {
     "ename": "OSError",
     "evalue": "[E050] Can't find model 'ja_ginza'. It doesn't seem to be a Python package or a valid path to a data directory.",
     "output_type": "error",
     "traceback": [
      "\u001b[0;31m------------------------------------------------------------------------\u001b[0m",
      "\u001b[0;31mOSError\u001b[0m                                Traceback (most recent call last)",
      "\u001b[0;32m<ipython-input-1-935bffa734f0>\u001b[0m in \u001b[0;36m<module>\u001b[0;34m\u001b[0m\n\u001b[1;32m      1\u001b[0m \u001b[0;32mimport\u001b[0m \u001b[0mspacy\u001b[0m\u001b[0;34m\u001b[0m\u001b[0;34m\u001b[0m\u001b[0m\n\u001b[0;32m----> 2\u001b[0;31m \u001b[0mnlp\u001b[0m \u001b[0;34m=\u001b[0m \u001b[0mspacy\u001b[0m\u001b[0;34m.\u001b[0m\u001b[0mload\u001b[0m\u001b[0;34m(\u001b[0m\u001b[0;34m'ja_ginza'\u001b[0m\u001b[0;34m)\u001b[0m\u001b[0;34m\u001b[0m\u001b[0;34m\u001b[0m\u001b[0m\n\u001b[0m",
      "\u001b[0;32m/usr/local/lib/python3.8/dist-packages/spacy/__init__.py\u001b[0m in \u001b[0;36mload\u001b[0;34m(name, vocab, disable, enable, exclude, config)\u001b[0m\n\u001b[1;32m     52\u001b[0m     \u001b[0mRETURNS\u001b[0m \u001b[0;34m(\u001b[0m\u001b[0mLanguage\u001b[0m\u001b[0;34m)\u001b[0m\u001b[0;34m:\u001b[0m \u001b[0mThe\u001b[0m \u001b[0mloaded\u001b[0m \u001b[0mnlp\u001b[0m \u001b[0mobject\u001b[0m\u001b[0;34m.\u001b[0m\u001b[0;34m\u001b[0m\u001b[0;34m\u001b[0m\u001b[0m\n\u001b[1;32m     53\u001b[0m     \"\"\"\n\u001b[0;32m---> 54\u001b[0;31m     return util.load_model(\n\u001b[0m\u001b[1;32m     55\u001b[0m         \u001b[0mname\u001b[0m\u001b[0;34m,\u001b[0m\u001b[0;34m\u001b[0m\u001b[0;34m\u001b[0m\u001b[0m\n\u001b[1;32m     56\u001b[0m         \u001b[0mvocab\u001b[0m\u001b[0;34m=\u001b[0m\u001b[0mvocab\u001b[0m\u001b[0;34m,\u001b[0m\u001b[0;34m\u001b[0m\u001b[0;34m\u001b[0m\u001b[0m\n",
      "\u001b[0;32m/usr/local/lib/python3.8/dist-packages/spacy/util.py\u001b[0m in \u001b[0;36mload_model\u001b[0;34m(name, vocab, disable, enable, exclude, config)\u001b[0m\n\u001b[1;32m    434\u001b[0m     \u001b[0;32mif\u001b[0m \u001b[0mname\u001b[0m \u001b[0;32min\u001b[0m \u001b[0mOLD_MODEL_SHORTCUTS\u001b[0m\u001b[0;34m:\u001b[0m\u001b[0;34m\u001b[0m\u001b[0;34m\u001b[0m\u001b[0m\n\u001b[1;32m    435\u001b[0m         \u001b[0;32mraise\u001b[0m \u001b[0mIOError\u001b[0m\u001b[0;34m(\u001b[0m\u001b[0mErrors\u001b[0m\u001b[0;34m.\u001b[0m\u001b[0mE941\u001b[0m\u001b[0;34m.\u001b[0m\u001b[0mformat\u001b[0m\u001b[0;34m(\u001b[0m\u001b[0mname\u001b[0m\u001b[0;34m=\u001b[0m\u001b[0mname\u001b[0m\u001b[0;34m,\u001b[0m \u001b[0mfull\u001b[0m\u001b[0;34m=\u001b[0m\u001b[0mOLD_MODEL_SHORTCUTS\u001b[0m\u001b[0;34m[\u001b[0m\u001b[0mname\u001b[0m\u001b[0;34m]\u001b[0m\u001b[0;34m)\u001b[0m\u001b[0;34m)\u001b[0m  \u001b[0;31m# type: ignore[index]\u001b[0m\u001b[0;34m\u001b[0m\u001b[0;34m\u001b[0m\u001b[0m\n\u001b[0;32m--> 436\u001b[0;31m     \u001b[0;32mraise\u001b[0m \u001b[0mIOError\u001b[0m\u001b[0;34m(\u001b[0m\u001b[0mErrors\u001b[0m\u001b[0;34m.\u001b[0m\u001b[0mE050\u001b[0m\u001b[0;34m.\u001b[0m\u001b[0mformat\u001b[0m\u001b[0;34m(\u001b[0m\u001b[0mname\u001b[0m\u001b[0;34m=\u001b[0m\u001b[0mname\u001b[0m\u001b[0;34m)\u001b[0m\u001b[0;34m)\u001b[0m\u001b[0;34m\u001b[0m\u001b[0;34m\u001b[0m\u001b[0m\n\u001b[0m\u001b[1;32m    437\u001b[0m \u001b[0;34m\u001b[0m\u001b[0m\n\u001b[1;32m    438\u001b[0m \u001b[0;34m\u001b[0m\u001b[0m\n",
      "\u001b[0;31mOSError\u001b[0m: [E050] Can't find model 'ja_ginza'. It doesn't seem to be a Python package or a valid path to a data directory."
     ]
    }
   ],
   "source": [
    "import spacy\n",
    "nlp = spacy.load('ja_ginza')"
   ]
  },
  {
   "cell_type": "code",
   "execution_count": 2,
   "metadata": {},
   "outputs": [
    {
     "name": "stderr",
     "output_type": "stream",
     "text": [
      "/usr/local/lib/python3.8/dist-packages/torch/amp/autocast_mode.py:198: UserWarning: User provided device_type of 'cuda', but CUDA is not available. Disabling\n",
      "  warnings.warn('User provided device_type of \\'cuda\\', but CUDA is not available. Disabling')\n"
     ]
    }
   ],
   "source": [
    "import spacy\n",
    "nlp = spacy.load('ja_ginza_electra')\n",
    "doc = nlp('銀座でランチをご一緒しましょう。')"
   ]
  },
  {
   "cell_type": "code",
   "execution_count": 3,
   "metadata": {},
   "outputs": [
    {
     "name": "stdout",
     "output_type": "stream",
     "text": [
      "銀座でランチをご一緒しましょう。\n"
     ]
    }
   ],
   "source": [
    "for sent in doc.sents:  # センテンスを参照\n",
    "    print(sent)"
   ]
  },
  {
   "cell_type": "code",
   "execution_count": 4,
   "metadata": {},
   "outputs": [],
   "source": [
    "doc = nlp('私は猫を撫でた。猫も私を舐めた。')"
   ]
  },
  {
   "cell_type": "code",
   "execution_count": 5,
   "metadata": {},
   "outputs": [
    {
     "name": "stdout",
     "output_type": "stream",
     "text": [
      "私は猫を撫でた。\n",
      "猫も私を舐めた。\n"
     ]
    }
   ],
   "source": [
    "for sent in doc.sents:  # センテンスを参照\n",
    "    print(sent)"
   ]
  },
  {
   "cell_type": "code",
   "execution_count": 6,
   "metadata": {},
   "outputs": [
    {
     "ename": "OSError",
     "evalue": "[E050] Can't find model 'ja_ginza'. It doesn't seem to be a Python package or a valid path to a data directory.",
     "output_type": "error",
     "traceback": [
      "\u001b[0;31m------------------------------------------------------------------------\u001b[0m",
      "\u001b[0;31mOSError\u001b[0m                                Traceback (most recent call last)",
      "\u001b[0;32m<ipython-input-6-25ad9bcefcb9>\u001b[0m in \u001b[0;36m<module>\u001b[0;34m\u001b[0m\n\u001b[0;32m----> 1\u001b[0;31m \u001b[0mnlp\u001b[0m \u001b[0;34m=\u001b[0m \u001b[0mspacy\u001b[0m\u001b[0;34m.\u001b[0m\u001b[0mload\u001b[0m\u001b[0;34m(\u001b[0m\u001b[0;34m'ja_ginza'\u001b[0m\u001b[0;34m)\u001b[0m\u001b[0;34m\u001b[0m\u001b[0;34m\u001b[0m\u001b[0m\n\u001b[0m\u001b[1;32m      2\u001b[0m \u001b[0mdoc\u001b[0m \u001b[0;34m=\u001b[0m \u001b[0mnlp\u001b[0m\u001b[0;34m(\u001b[0m\u001b[0;34m'私は猫を撫でた。猫も私を舐めた。'\u001b[0m\u001b[0;34m)\u001b[0m\u001b[0;34m\u001b[0m\u001b[0;34m\u001b[0m\u001b[0m\n\u001b[1;32m      3\u001b[0m \u001b[0;34m\u001b[0m\u001b[0m\n\u001b[1;32m      4\u001b[0m \u001b[0;32mfor\u001b[0m \u001b[0msent\u001b[0m \u001b[0;32min\u001b[0m \u001b[0mdoc\u001b[0m\u001b[0;34m.\u001b[0m\u001b[0msents\u001b[0m\u001b[0;34m:\u001b[0m  \u001b[0;31m# センテンスを参照\u001b[0m\u001b[0;34m\u001b[0m\u001b[0;34m\u001b[0m\u001b[0m\n\u001b[1;32m      5\u001b[0m     \u001b[0mprint\u001b[0m\u001b[0;34m(\u001b[0m\u001b[0msent\u001b[0m\u001b[0;34m)\u001b[0m\u001b[0;34m\u001b[0m\u001b[0;34m\u001b[0m\u001b[0m\n",
      "\u001b[0;32m/usr/local/lib/python3.8/dist-packages/spacy/__init__.py\u001b[0m in \u001b[0;36mload\u001b[0;34m(name, vocab, disable, enable, exclude, config)\u001b[0m\n\u001b[1;32m     52\u001b[0m     \u001b[0mRETURNS\u001b[0m \u001b[0;34m(\u001b[0m\u001b[0mLanguage\u001b[0m\u001b[0;34m)\u001b[0m\u001b[0;34m:\u001b[0m \u001b[0mThe\u001b[0m \u001b[0mloaded\u001b[0m \u001b[0mnlp\u001b[0m \u001b[0mobject\u001b[0m\u001b[0;34m.\u001b[0m\u001b[0;34m\u001b[0m\u001b[0;34m\u001b[0m\u001b[0m\n\u001b[1;32m     53\u001b[0m     \"\"\"\n\u001b[0;32m---> 54\u001b[0;31m     return util.load_model(\n\u001b[0m\u001b[1;32m     55\u001b[0m         \u001b[0mname\u001b[0m\u001b[0;34m,\u001b[0m\u001b[0;34m\u001b[0m\u001b[0;34m\u001b[0m\u001b[0m\n\u001b[1;32m     56\u001b[0m         \u001b[0mvocab\u001b[0m\u001b[0;34m=\u001b[0m\u001b[0mvocab\u001b[0m\u001b[0;34m,\u001b[0m\u001b[0;34m\u001b[0m\u001b[0;34m\u001b[0m\u001b[0m\n",
      "\u001b[0;32m/usr/local/lib/python3.8/dist-packages/spacy/util.py\u001b[0m in \u001b[0;36mload_model\u001b[0;34m(name, vocab, disable, enable, exclude, config)\u001b[0m\n\u001b[1;32m    434\u001b[0m     \u001b[0;32mif\u001b[0m \u001b[0mname\u001b[0m \u001b[0;32min\u001b[0m \u001b[0mOLD_MODEL_SHORTCUTS\u001b[0m\u001b[0;34m:\u001b[0m\u001b[0;34m\u001b[0m\u001b[0;34m\u001b[0m\u001b[0m\n\u001b[1;32m    435\u001b[0m         \u001b[0;32mraise\u001b[0m \u001b[0mIOError\u001b[0m\u001b[0;34m(\u001b[0m\u001b[0mErrors\u001b[0m\u001b[0;34m.\u001b[0m\u001b[0mE941\u001b[0m\u001b[0;34m.\u001b[0m\u001b[0mformat\u001b[0m\u001b[0;34m(\u001b[0m\u001b[0mname\u001b[0m\u001b[0;34m=\u001b[0m\u001b[0mname\u001b[0m\u001b[0;34m,\u001b[0m \u001b[0mfull\u001b[0m\u001b[0;34m=\u001b[0m\u001b[0mOLD_MODEL_SHORTCUTS\u001b[0m\u001b[0;34m[\u001b[0m\u001b[0mname\u001b[0m\u001b[0;34m]\u001b[0m\u001b[0;34m)\u001b[0m\u001b[0;34m)\u001b[0m  \u001b[0;31m# type: ignore[index]\u001b[0m\u001b[0;34m\u001b[0m\u001b[0;34m\u001b[0m\u001b[0m\n\u001b[0;32m--> 436\u001b[0;31m     \u001b[0;32mraise\u001b[0m \u001b[0mIOError\u001b[0m\u001b[0;34m(\u001b[0m\u001b[0mErrors\u001b[0m\u001b[0;34m.\u001b[0m\u001b[0mE050\u001b[0m\u001b[0;34m.\u001b[0m\u001b[0mformat\u001b[0m\u001b[0;34m(\u001b[0m\u001b[0mname\u001b[0m\u001b[0;34m=\u001b[0m\u001b[0mname\u001b[0m\u001b[0;34m)\u001b[0m\u001b[0;34m)\u001b[0m\u001b[0;34m\u001b[0m\u001b[0;34m\u001b[0m\u001b[0m\n\u001b[0m\u001b[1;32m    437\u001b[0m \u001b[0;34m\u001b[0m\u001b[0m\n\u001b[1;32m    438\u001b[0m \u001b[0;34m\u001b[0m\u001b[0m\n",
      "\u001b[0;31mOSError\u001b[0m: [E050] Can't find model 'ja_ginza'. It doesn't seem to be a Python package or a valid path to a data directory."
     ]
    }
   ],
   "source": [
    "nlp = spacy.load('ja_ginza')\n",
    "doc = nlp('私は猫を撫でた。猫も私を舐めた。')\n",
    "\n",
    "for sent in doc.sents:  # センテンスを参照\n",
    "    print(sent)"
   ]
  },
  {
   "cell_type": "code",
   "execution_count": 7,
   "metadata": {},
   "outputs": [
    {
     "name": "stdout",
     "output_type": "stream",
     "text": [
      "銀座でランチをご一緒しましょう。\n"
     ]
    }
   ],
   "source": [
    "doc = nlp('銀座でランチをご一緒しましょう。')\n",
    "\n",
    "for sent in doc.sents:  # センテンスを参照\n",
    "    print(sent)"
   ]
  },
  {
   "cell_type": "code",
   "execution_count": 8,
   "metadata": {},
   "outputs": [
    {
     "name": "stdout",
     "output_type": "stream",
     "text": [
      "0 銀座 銀座 銀座 ['ギンザ'] PROPN [] 名詞-固有名詞-地名-一般 obl 5\n",
      "1 で で で ['デ'] ADP [] 助詞-格助詞 case 0\n",
      "2 ランチ ランチ ランチ ['ランチ'] NOUN [] 名詞-普通名詞-一般 obj 5\n",
      "3 を を を ['ヲ'] ADP [] 助詞-格助詞 case 2\n",
      "4 ご ご 御 ['ゴ'] NOUN [] 接頭辞 compound 5\n",
      "5 一緒 一緒 一緒 ['イッショ'] VERB [] 名詞-普通名詞-サ変可能 ROOT 5\n",
      "6 し する 為る ['シ'] AUX ['サ行変格;連用形-一般'] 動詞-非自立可能 aux 5\n",
      "7 ましょう ます ます ['マショウ'] AUX ['助動詞-マス;意志推量形'] 助動詞 aux 5\n",
      "8 。 。 。 ['。'] PUNCT [] 補助記号-句点 punct 5\n",
      "EOS\n"
     ]
    }
   ],
   "source": [
    "for sent in doc.sents:\n",
    "    for token in sent:\n",
    "        print(\n",
    "            token.i,\n",
    "            token.orth_,\n",
    "            token.lemma_,\n",
    "            token.norm_,\n",
    "            token.morph.get(\"Reading\"),\n",
    "            token.pos_,\n",
    "            token.morph.get(\"Inflection\"),\n",
    "            token.tag_,\n",
    "            token.dep_,\n",
    "            token.head.i,\n",
    "        )\n",
    "    print('EOS')"
   ]
  },
  {
   "cell_type": "code",
   "execution_count": 9,
   "metadata": {},
   "outputs": [
    {
     "ename": "NameError",
     "evalue": "name 'obj' is not defined",
     "output_type": "error",
     "traceback": [
      "\u001b[0;31m------------------------------------------------------------------------\u001b[0m",
      "\u001b[0;31mNameError\u001b[0m                              Traceback (most recent call last)",
      "\u001b[0;32m<ipython-input-9-efc10984af84>\u001b[0m in \u001b[0;36m<module>\u001b[0;34m\u001b[0m\n\u001b[1;32m      1\u001b[0m \u001b[0;32mfor\u001b[0m \u001b[0mtok\u001b[0m \u001b[0;32min\u001b[0m \u001b[0mdoc\u001b[0m\u001b[0;34m:\u001b[0m\u001b[0;34m\u001b[0m\u001b[0;34m\u001b[0m\u001b[0m\n\u001b[0;32m----> 2\u001b[0;31m     \u001b[0;32mif\u001b[0m \u001b[0mtok\u001b[0m\u001b[0;34m.\u001b[0m\u001b[0mdep\u001b[0m \u001b[0;34m==\u001b[0m \u001b[0mobj\u001b[0m\u001b[0;34m:\u001b[0m  \u001b[0;31m# トークンが目的語なら\u001b[0m\u001b[0;34m\u001b[0m\u001b[0;34m\u001b[0m\u001b[0m\n\u001b[0m\u001b[1;32m      3\u001b[0m         \u001b[0mprint\u001b[0m\u001b[0;34m(\u001b[0m\u001b[0mtok\u001b[0m\u001b[0;34m.\u001b[0m\u001b[0mtext\u001b[0m\u001b[0;34m)\u001b[0m  \u001b[0;31m# テキストを表示\u001b[0m\u001b[0;34m\u001b[0m\u001b[0;34m\u001b[0m\u001b[0m\n",
      "\u001b[0;31mNameError\u001b[0m: name 'obj' is not defined"
     ]
    }
   ],
   "source": [
    "for tok in doc:\n",
    "    if tok.dep == obj:  # トークンが目的語なら\n",
    "        print(tok.text)  # テキストを表示"
   ]
  },
  {
   "cell_type": "code",
   "execution_count": 10,
   "metadata": {},
   "outputs": [],
   "source": [
    "from spacy.symbols import obj VERB"
   ]
  },
  {
   "cell_type": "code",
   "execution_count": 15,
   "metadata": {},
   "outputs": [],
   "source": [
    "from spacy.symbols import obj, VERB"
   ]
  },
  {
   "cell_type": "code",
   "execution_count": 16,
   "metadata": {},
   "outputs": [
    {
     "name": "stdout",
     "output_type": "stream",
     "text": [
      "目的語；ランチ\n"
     ]
    }
   ],
   "source": [
    "for tok in doc:\n",
    "    if tok.dep == obj:\n",
    "        print('目的語；' + tok.text)\n",
    "    if tok.dep == VERB:\n",
    "        print('動詞：' + tok.text)"
   ]
  },
  {
   "cell_type": "code",
   "execution_count": 17,
   "metadata": {},
   "outputs": [
    {
     "name": "stdout",
     "output_type": "stream",
     "text": [
      "0 銀座 銀座 銀座 ['ギンザ'] PROPN [] 名詞-固有名詞-地名-一般 obl 5\n",
      "1 で で で ['デ'] ADP [] 助詞-格助詞 case 0\n",
      "2 ランチ ランチ ランチ ['ランチ'] NOUN [] 名詞-普通名詞-一般 obj 5\n",
      "3 を を を ['ヲ'] ADP [] 助詞-格助詞 case 2\n",
      "4 ご ご 御 ['ゴ'] NOUN [] 接頭辞 compound 5\n",
      "5 一緒 一緒 一緒 ['イッショ'] VERB [] 名詞-普通名詞-サ変可能 ROOT 5\n",
      "6 し する 為る ['シ'] AUX ['サ行変格;連用形-一般'] 動詞-非自立可能 aux 5\n",
      "7 ましょう ます ます ['マショウ'] AUX ['助動詞-マス;意志推量形'] 助動詞 aux 5\n",
      "8 。 。 。 ['。'] PUNCT [] 補助記号-句点 punct 5\n",
      "EOS\n"
     ]
    }
   ],
   "source": [
    "for sent in doc.sents:\n",
    "    for token in sent:\n",
    "        print(\n",
    "            token.i,\n",
    "            token.orth_,\n",
    "            token.lemma_,\n",
    "            token.norm_,\n",
    "            token.morph.get(\"Reading\"),\n",
    "            token.pos_,\n",
    "            token.morph.get(\"Inflection\"),\n",
    "            token.tag_,\n",
    "            token.dep_,\n",
    "            token.head.i,\n",
    "        )\n",
    "    print('EOS')"
   ]
  },
  {
   "cell_type": "code",
   "execution_count": 18,
   "metadata": {},
   "outputs": [],
   "source": [
    "doc = nlp('私は野球をする');"
   ]
  },
  {
   "cell_type": "code",
   "execution_count": 19,
   "metadata": {},
   "outputs": [
    {
     "name": "stdout",
     "output_type": "stream",
     "text": [
      "目的語；野球\n"
     ]
    }
   ],
   "source": [
    "for tok in doc:\n",
    "    if tok.dep == obj:\n",
    "        print('目的語；' + tok.text)\n",
    "    if tok.dep == VERB:\n",
    "        print('動詞：' + tok.text)"
   ]
  },
  {
   "cell_type": "code",
   "execution_count": 20,
   "metadata": {},
   "outputs": [
    {
     "name": "stdout",
     "output_type": "stream",
     "text": [
      "目的語；野球\n",
      "動詞：する\n"
     ]
    }
   ],
   "source": [
    "for tok in doc:\n",
    "    if tok.dep == obj:\n",
    "        print('目的語；' + tok.text)\n",
    "    if tok.pos == VERB:\n",
    "        print('動詞：' + tok.text)"
   ]
  },
  {
   "cell_type": "code",
   "execution_count": 21,
   "metadata": {},
   "outputs": [],
   "source": [
    "doc = nlp('この時、最初は 1 をクリックのユーザー情報の表示を待っていた時に「やっぱりユーザー 2 の情報が欲しいから 2 をクリックしよう」と思った場合に表示する必要のないユーザー 1 のレスポンスは不要ですよね。')"
   ]
  },
  {
   "cell_type": "code",
   "execution_count": 22,
   "metadata": {},
   "outputs": [
    {
     "name": "stdout",
     "output_type": "stream",
     "text": [
      "目的語；1\n",
      "目的語；表示\n",
      "動詞：待っ\n",
      "動詞：い\n",
      "目的語；2\n",
      "動詞：クリック\n",
      "動詞：思っ\n",
      "動詞：表示\n"
     ]
    }
   ],
   "source": [
    "for tok in doc:\n",
    "    if tok.dep == obj:\n",
    "        print('目的語；' + tok.text)\n",
    "    if tok.pos == VERB:\n",
    "        print('動詞：' + tok.text)"
   ]
  },
  {
   "cell_type": "code",
   "execution_count": 23,
   "metadata": {},
   "outputs": [],
   "source": [
    "import deplacy"
   ]
  },
  {
   "cell_type": "code",
   "execution_count": 24,
   "metadata": {},
   "outputs": [
    {
     "name": "stdout",
     "output_type": "stream",
     "text": [
      "この       DET   <╗                                       det(決定詞)\n",
      "時         NOUN  ═╝═╗<════════════════════════════╗       obl(斜格補語)\n",
      "、         PUNCT <══╝                             ║       punct(句読点)\n",
      "最初       NOUN  ═╗<════════╗                     ║       obl(斜格補語)\n",
      "は         ADP   <╝         ║                     ║       case(格表示)\n",
      "1          NUM   ═╗<╗       ║                     ║       obj(目的語)\n",
      "を         ADP   <╝ ║       ║                     ║       case(格表示)\n",
      "クリック   NOUN  ═╗═╝<╗     ║                     ║       nmod(体言による連体修飾語)\n",
      "の         ADP   <╝   ║     ║                     ║       case(格表示)\n",
      "ユーザー   NOUN  <╗   ║     ║                     ║       compound(複合)\n",
      "情報       NOUN  ═╝═╗═╝<╗   ║                     ║       nmod(体言による連体修飾語)\n",
      "の         ADP   <══╝   ║   ║                     ║       case(格表示)\n",
      "表示       NOUN  ═╗═════╝<╗ ║                     ║       obj(目的語)\n",
      "を         ADP   <╝       ║ ║                     ║       case(格表示)\n",
      "待っ       VERB  ═══╗═╗═══╝═╝<╗                   ║       acl(連体修飾節)\n",
      "て         SCONJ ═╗<╝ ║       ║                   ║       mark(標識)\n",
      "い         VERB  <╝   ║       ║                   ║       fixed(固着)\n",
      "た         AUX   <════╝       ║                   ║       aux(動詞補助成分)\n",
      "時         NOUN  ═╗═══════════╝<════════════════╗ ║       obl(斜格補語)\n",
      "に         ADP   <╝                             ║ ║       case(格表示)\n",
      "「         PUNCT <╗                             ║ ║       punct(句読点)\n",
      "やっぱり   ADV   ═╝<══════╗                     ║ ║       advmod(連用修飾語)\n",
      "ユーザー   NOUN  <╗       ║                     ║ ║       compound(複合)\n",
      "2          NUM   ═╝═╗<╗   ║                     ║ ║       nmod(体言による連体修飾語)\n",
      "の         ADP   <══╝ ║   ║                     ║ ║       case(格表示)\n",
      "情報       NOUN  ═╗═══╝<╗ ║                     ║ ║       nsubj(主語)\n",
      "が         ADP   <╝     ║ ║                     ║ ║       case(格表示)\n",
      "欲しい     ADJ   ═╗═════╝═╝<╗                   ║ ║       advcl(連用修飾節)\n",
      "から       SCONJ <╝         ║                   ║ ║       mark(標識)\n",
      "2          NUM   ═╗<══╗     ║                   ║ ║       obj(目的語)\n",
      "を         ADP   <╝   ║     ║                   ║ ║       case(格表示)\n",
      "クリック   VERB  ═╗═╗═╝═════╝═╗<╗               ║ ║       ccomp(節目的語)\n",
      "しよう     AUX   <╝ ║         ║ ║               ║ ║       aux(動詞補助成分)\n",
      "」         PUNCT <══║═════════╝ ║               ║ ║       punct(句読点)\n",
      "と         ADP   <══╝           ║               ║ ║       case(格表示)\n",
      "思っ       VERB  ═╗═════════════╝<╗             ║ ║       acl(連体修飾節)\n",
      "た         AUX   <╝               ║             ║ ║       aux(動詞補助成分)\n",
      "場合       NOUN  ═╗═══════════════╝<╗           ║ ║       obl(斜格補語)\n",
      "に         ADP   <╝                 ║           ║ ║       case(格表示)\n",
      "表示       VERB  ═╗═════════════════╝<╗         ║ ║       acl(連体修飾節)\n",
      "する       AUX   <╝                   ║         ║ ║       aux(動詞補助成分)\n",
      "必要       NOUN  ═╗═══════════════════╝<╗       ║ ║       nmod(体言による連体修飾語)\n",
      "の         ADP   <╝                     ║       ║ ║       case(格表示)\n",
      "ない       ADJ   ═══════════════════════╝<╗     ║ ║       acl(連体修飾節)\n",
      "ユーザー   NOUN  <╗                       ║     ║ ║       compound(複合)\n",
      "1          NUM   ═╝═╗═════════════════════╝<╗   ║ ║       nmod(体言による連体修飾語)\n",
      "の         ADP   <══╝                       ║   ║ ║       case(格表示)\n",
      "レスポンス NOUN  ═╗═════════════════════════╝<╗ ║ ║       nsubj(主語)\n",
      "は         ADP   <╝                           ║ ║ ║       case(格表示)\n",
      "不要       ADJ   ═╗═══════════════════════════╝═╝═╝═╗═╗═╗ ROOT(親)\n",
      "です       AUX   <╝                                 ║ ║ ║ aux(動詞補助成分)\n",
      "よ         PART  <══════════════════════════════════╝ ║ ║ mark(標識)\n",
      "ね         PART  <════════════════════════════════════╝ ║ mark(標識)\n",
      "。         PUNCT <══════════════════════════════════════╝ punct(句読点)\n"
     ]
    }
   ],
   "source": [
    "deplacy.render(doc, Japanese=True)"
   ]
  },
  {
   "cell_type": "code",
   "execution_count": null,
   "metadata": {},
   "outputs": [],
   "source": []
  }
 ],
 "metadata": {
  "kernelspec": {
   "display_name": "Python 3",
   "language": "python",
   "name": "python3"
  },
  "language_info": {
   "codemirror_mode": {
    "name": "ipython",
    "version": 3
   },
   "file_extension": ".py",
   "mimetype": "text/x-python",
   "name": "python",
   "nbconvert_exporter": "python",
   "pygments_lexer": "ipython3",
   "version": "3.8.10"
  }
 },
 "nbformat": 4,
 "nbformat_minor": 4
}
